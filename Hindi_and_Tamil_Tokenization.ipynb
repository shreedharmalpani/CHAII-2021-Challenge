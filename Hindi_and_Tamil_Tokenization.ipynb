{
  "nbformat": 4,
  "nbformat_minor": 0,
  "metadata": {
    "colab": {
      "name": "Hindi and Tamil Tokenization.ipynb",
      "provenance": []
    },
    "kernelspec": {
      "name": "python3",
      "display_name": "Python 3"
    },
    "language_info": {
      "name": "python"
    }
  },
  "cells": [
    {
      "cell_type": "code",
      "metadata": {
        "colab": {
          "base_uri": "https://localhost:8080/"
        },
        "id": "t0apy2n61Zyj",
        "outputId": "60d5498f-f298-457d-ef9c-c05b0ae891ba"
      },
      "source": [
        "!pip install transformers"
      ],
      "execution_count": 1,
      "outputs": [
        {
          "output_type": "stream",
          "name": "stdout",
          "text": [
            "Collecting transformers\n",
            "  Downloading transformers-4.11.3-py3-none-any.whl (2.9 MB)\n",
            "\u001b[K     |████████████████████████████████| 2.9 MB 5.4 MB/s \n",
            "\u001b[?25hRequirement already satisfied: tqdm>=4.27 in /usr/local/lib/python3.7/dist-packages (from transformers) (4.62.3)\n",
            "Requirement already satisfied: numpy>=1.17 in /usr/local/lib/python3.7/dist-packages (from transformers) (1.19.5)\n",
            "Collecting tokenizers<0.11,>=0.10.1\n",
            "  Downloading tokenizers-0.10.3-cp37-cp37m-manylinux_2_5_x86_64.manylinux1_x86_64.manylinux_2_12_x86_64.manylinux2010_x86_64.whl (3.3 MB)\n",
            "\u001b[K     |████████████████████████████████| 3.3 MB 41.5 MB/s \n",
            "\u001b[?25hRequirement already satisfied: importlib-metadata in /usr/local/lib/python3.7/dist-packages (from transformers) (4.8.1)\n",
            "Collecting pyyaml>=5.1\n",
            "  Downloading PyYAML-5.4.1-cp37-cp37m-manylinux1_x86_64.whl (636 kB)\n",
            "\u001b[K     |████████████████████████████████| 636 kB 39.1 MB/s \n",
            "\u001b[?25hRequirement already satisfied: filelock in /usr/local/lib/python3.7/dist-packages (from transformers) (3.3.0)\n",
            "Requirement already satisfied: packaging>=20.0 in /usr/local/lib/python3.7/dist-packages (from transformers) (21.0)\n",
            "Collecting huggingface-hub>=0.0.17\n",
            "  Downloading huggingface_hub-0.0.19-py3-none-any.whl (56 kB)\n",
            "\u001b[K     |████████████████████████████████| 56 kB 3.9 MB/s \n",
            "\u001b[?25hRequirement already satisfied: requests in /usr/local/lib/python3.7/dist-packages (from transformers) (2.23.0)\n",
            "Collecting sacremoses\n",
            "  Downloading sacremoses-0.0.46-py3-none-any.whl (895 kB)\n",
            "\u001b[K     |████████████████████████████████| 895 kB 59.3 MB/s \n",
            "\u001b[?25hRequirement already satisfied: regex!=2019.12.17 in /usr/local/lib/python3.7/dist-packages (from transformers) (2019.12.20)\n",
            "Requirement already satisfied: typing-extensions in /usr/local/lib/python3.7/dist-packages (from huggingface-hub>=0.0.17->transformers) (3.7.4.3)\n",
            "Requirement already satisfied: pyparsing>=2.0.2 in /usr/local/lib/python3.7/dist-packages (from packaging>=20.0->transformers) (2.4.7)\n",
            "Requirement already satisfied: zipp>=0.5 in /usr/local/lib/python3.7/dist-packages (from importlib-metadata->transformers) (3.6.0)\n",
            "Requirement already satisfied: idna<3,>=2.5 in /usr/local/lib/python3.7/dist-packages (from requests->transformers) (2.10)\n",
            "Requirement already satisfied: chardet<4,>=3.0.2 in /usr/local/lib/python3.7/dist-packages (from requests->transformers) (3.0.4)\n",
            "Requirement already satisfied: urllib3!=1.25.0,!=1.25.1,<1.26,>=1.21.1 in /usr/local/lib/python3.7/dist-packages (from requests->transformers) (1.24.3)\n",
            "Requirement already satisfied: certifi>=2017.4.17 in /usr/local/lib/python3.7/dist-packages (from requests->transformers) (2021.5.30)\n",
            "Requirement already satisfied: joblib in /usr/local/lib/python3.7/dist-packages (from sacremoses->transformers) (1.0.1)\n",
            "Requirement already satisfied: six in /usr/local/lib/python3.7/dist-packages (from sacremoses->transformers) (1.15.0)\n",
            "Requirement already satisfied: click in /usr/local/lib/python3.7/dist-packages (from sacremoses->transformers) (7.1.2)\n",
            "Installing collected packages: pyyaml, tokenizers, sacremoses, huggingface-hub, transformers\n",
            "  Attempting uninstall: pyyaml\n",
            "    Found existing installation: PyYAML 3.13\n",
            "    Uninstalling PyYAML-3.13:\n",
            "      Successfully uninstalled PyYAML-3.13\n",
            "Successfully installed huggingface-hub-0.0.19 pyyaml-5.4.1 sacremoses-0.0.46 tokenizers-0.10.3 transformers-4.11.3\n"
          ]
        }
      ]
    },
    {
      "cell_type": "code",
      "metadata": {
        "id": "ajog1opj1QHx"
      },
      "source": [
        "import pandas as pd\n"
      ],
      "execution_count": 2,
      "outputs": []
    },
    {
      "cell_type": "code",
      "metadata": {
        "colab": {
          "base_uri": "https://localhost:8080/"
        },
        "id": "cr6tqv2B1fPm",
        "outputId": "9cdd03e5-c722-47ff-aaf3-4a6b0a2ff908"
      },
      "source": [
        "from google.colab import drive\n",
        "drive.mount('/content/drive')"
      ],
      "execution_count": 3,
      "outputs": [
        {
          "output_type": "stream",
          "name": "stdout",
          "text": [
            "Mounted at /content/drive\n"
          ]
        }
      ]
    },
    {
      "cell_type": "code",
      "metadata": {
        "id": "19y_u6G12S78"
      },
      "source": [
        "train = pd.read_csv('/content/drive/MyDrive/train.csv')"
      ],
      "execution_count": 5,
      "outputs": []
    },
    {
      "cell_type": "code",
      "metadata": {
        "colab": {
          "base_uri": "https://localhost:8080/",
          "height": 308
        },
        "id": "K1YwzUBd2x69",
        "outputId": "e17cf6c6-0104-4de5-e261-0e99b672f56c"
      },
      "source": [
        "train[train.language == 'tamil'].head()"
      ],
      "execution_count": 6,
      "outputs": [
        {
          "output_type": "execute_result",
          "data": {
            "text/html": [
              "<div>\n",
              "<style scoped>\n",
              "    .dataframe tbody tr th:only-of-type {\n",
              "        vertical-align: middle;\n",
              "    }\n",
              "\n",
              "    .dataframe tbody tr th {\n",
              "        vertical-align: top;\n",
              "    }\n",
              "\n",
              "    .dataframe thead th {\n",
              "        text-align: right;\n",
              "    }\n",
              "</style>\n",
              "<table border=\"1\" class=\"dataframe\">\n",
              "  <thead>\n",
              "    <tr style=\"text-align: right;\">\n",
              "      <th></th>\n",
              "      <th>id</th>\n",
              "      <th>context</th>\n",
              "      <th>question</th>\n",
              "      <th>answer_text</th>\n",
              "      <th>answer_start</th>\n",
              "      <th>language</th>\n",
              "    </tr>\n",
              "  </thead>\n",
              "  <tbody>\n",
              "    <tr>\n",
              "      <th>0</th>\n",
              "      <td>903deec17</td>\n",
              "      <td>ஒரு சாதாரண வளர்ந்த மனிதனுடைய எலும்புக்கூடு பின...</td>\n",
              "      <td>மனித உடலில் எத்தனை எலும்புகள் உள்ளன?</td>\n",
              "      <td>206</td>\n",
              "      <td>53</td>\n",
              "      <td>tamil</td>\n",
              "    </tr>\n",
              "    <tr>\n",
              "      <th>1</th>\n",
              "      <td>d9841668c</td>\n",
              "      <td>காளிதாசன் (தேவநாகரி: कालिदास) சமஸ்கிருத இலக்கி...</td>\n",
              "      <td>காளிதாசன் எங்கு பிறந்தார்?</td>\n",
              "      <td>காசுமீரில்</td>\n",
              "      <td>2358</td>\n",
              "      <td>tamil</td>\n",
              "    </tr>\n",
              "    <tr>\n",
              "      <th>2</th>\n",
              "      <td>29d154b56</td>\n",
              "      <td>சர் அலெக்ஸாண்டர் ஃபிளெமிங் (Sir Alexander Flem...</td>\n",
              "      <td>பென்சிலின் கண்டுபிடித்தவர் யார்?</td>\n",
              "      <td>சர் அலெக்ஸாண்டர் ஃபிளெமிங்</td>\n",
              "      <td>0</td>\n",
              "      <td>tamil</td>\n",
              "    </tr>\n",
              "    <tr>\n",
              "      <th>3</th>\n",
              "      <td>41660850a</td>\n",
              "      <td>குழந்தையின் அழுகையை  நிறுத்தவும், தூங்க வைக்கவ...</td>\n",
              "      <td>தமிழ்நாட்டில் குழந்தைகளை தூங்க வைக்க பாடும் பா...</td>\n",
              "      <td>தாலாட்டு</td>\n",
              "      <td>68</td>\n",
              "      <td>tamil</td>\n",
              "    </tr>\n",
              "    <tr>\n",
              "      <th>4</th>\n",
              "      <td>b29c82c22</td>\n",
              "      <td>சூரியக் குடும்பம் \\nசூரியக் குடும்பம் (Solar S...</td>\n",
              "      <td>பூமியின் அருகில் உள்ள விண்மீன் எது?</td>\n",
              "      <td>சூரியனும்</td>\n",
              "      <td>585</td>\n",
              "      <td>tamil</td>\n",
              "    </tr>\n",
              "  </tbody>\n",
              "</table>\n",
              "</div>"
            ],
            "text/plain": [
              "          id  ... language\n",
              "0  903deec17  ...    tamil\n",
              "1  d9841668c  ...    tamil\n",
              "2  29d154b56  ...    tamil\n",
              "3  41660850a  ...    tamil\n",
              "4  b29c82c22  ...    tamil\n",
              "\n",
              "[5 rows x 6 columns]"
            ]
          },
          "metadata": {},
          "execution_count": 6
        }
      ]
    },
    {
      "cell_type": "code",
      "metadata": {
        "colab": {
          "base_uri": "https://localhost:8080/",
          "height": 291
        },
        "id": "3cK8mQ-a24sa",
        "outputId": "b165b854-0368-44fd-b6a1-c425c7f2286f"
      },
      "source": [
        "train[train.language == 'hindi'].head()"
      ],
      "execution_count": 7,
      "outputs": [
        {
          "output_type": "execute_result",
          "data": {
            "text/html": [
              "<div>\n",
              "<style scoped>\n",
              "    .dataframe tbody tr th:only-of-type {\n",
              "        vertical-align: middle;\n",
              "    }\n",
              "\n",
              "    .dataframe tbody tr th {\n",
              "        vertical-align: top;\n",
              "    }\n",
              "\n",
              "    .dataframe thead th {\n",
              "        text-align: right;\n",
              "    }\n",
              "</style>\n",
              "<table border=\"1\" class=\"dataframe\">\n",
              "  <thead>\n",
              "    <tr style=\"text-align: right;\">\n",
              "      <th></th>\n",
              "      <th>id</th>\n",
              "      <th>context</th>\n",
              "      <th>question</th>\n",
              "      <th>answer_text</th>\n",
              "      <th>answer_start</th>\n",
              "      <th>language</th>\n",
              "    </tr>\n",
              "  </thead>\n",
              "  <tbody>\n",
              "    <tr>\n",
              "      <th>368</th>\n",
              "      <td>416091aeb</td>\n",
              "      <td>विषाणु अकोशिकीय अतिसूक्ष्म जीव हैं जो केवल जीव...</td>\n",
              "      <td>सन १८८६ में किसने बताया कि तम्बाकू में मोजेक र...</td>\n",
              "      <td>एडोल्फ मेयर</td>\n",
              "      <td>935</td>\n",
              "      <td>hindi</td>\n",
              "    </tr>\n",
              "    <tr>\n",
              "      <th>369</th>\n",
              "      <td>9d274ae3c</td>\n",
              "      <td>फ्लोरीन एक रासायनिक तत्व है। यह आवर्त सारणी (p...</td>\n",
              "      <td>फ्लोरीन की परमाणु संख्या क्या है?</td>\n",
              "      <td>9</td>\n",
              "      <td>166</td>\n",
              "      <td>hindi</td>\n",
              "    </tr>\n",
              "    <tr>\n",
              "      <th>370</th>\n",
              "      <td>da7397c5e</td>\n",
              "      <td>सीऐटल (अंग्रेजी: Seattle) अमेरिका के वाशिंगटन ...</td>\n",
              "      <td>सीटल शहर कहाँ स्थित है?</td>\n",
              "      <td>अमेरिका के वाशिंगटन राज्य</td>\n",
              "      <td>26</td>\n",
              "      <td>hindi</td>\n",
              "    </tr>\n",
              "    <tr>\n",
              "      <th>371</th>\n",
              "      <td>661880e43</td>\n",
              "      <td>सूर्य अथवा सूरज सौरमंडल के केन्द्र में स्थित ए...</td>\n",
              "      <td>पृथ्वी को सूर्य की परिक्रमा करने में कितने दिन...</td>\n",
              "      <td>28 दिनों</td>\n",
              "      <td>2762</td>\n",
              "      <td>hindi</td>\n",
              "    </tr>\n",
              "    <tr>\n",
              "      <th>372</th>\n",
              "      <td>3e3a2bed4</td>\n",
              "      <td>दिल्ली नगर निगम एक शहर व नगर निगम है, जो दिल्ल...</td>\n",
              "      <td>दिल्ली नगर निगम, दिल्ली के कितने जिलों में कार...</td>\n",
              "      <td>कुल नौ जिलों</td>\n",
              "      <td>51</td>\n",
              "      <td>hindi</td>\n",
              "    </tr>\n",
              "  </tbody>\n",
              "</table>\n",
              "</div>"
            ],
            "text/plain": [
              "            id  ... language\n",
              "368  416091aeb  ...    hindi\n",
              "369  9d274ae3c  ...    hindi\n",
              "370  da7397c5e  ...    hindi\n",
              "371  661880e43  ...    hindi\n",
              "372  3e3a2bed4  ...    hindi\n",
              "\n",
              "[5 rows x 6 columns]"
            ]
          },
          "metadata": {},
          "execution_count": 7
        }
      ]
    },
    {
      "cell_type": "code",
      "metadata": {
        "id": "9jBN42ZE2-Bf"
      },
      "source": [
        "tamil_context = train[train.language == 'tamil']['context'].str.cat(sep='\\n')\n",
        "hindi_context = train[train.language == 'hindi']['context'].str.cat(sep='\\n')"
      ],
      "execution_count": 8,
      "outputs": []
    },
    {
      "cell_type": "code",
      "metadata": {
        "colab": {
          "base_uri": "https://localhost:8080/"
        },
        "id": "5T01amKd3ACF",
        "outputId": "f0605009-fb8e-42b1-a9b0-9698d3293c9a"
      },
      "source": [
        "print(hindi_context[:4000])"
      ],
      "execution_count": 15,
      "outputs": [
        {
          "output_type": "stream",
          "name": "stdout",
          "text": [
            "विषाणु अकोशिकीय अतिसूक्ष्म जीव हैं जो केवल जीवित कोशिका में ही वंश वृद्धि कर सकते हैं।[1] ये नाभिकीय अम्ल और प्रोटीन से मिलकर गठित होते हैं, शरीर के बाहर तो ये मृत-समान होते हैं परंतु शरीर के अंदर जीवित हो जाते हैं। इन्हे क्रिस्टल के रूप में इकट्ठा किया जा सकता है। एक विषाणु बिना किसी सजीव माध्यम के पुनरुत्पादन नहीं कर सकता है। यह सैकड़ों वर्षों तक सुशुप्तावस्था में रह सकता है और जब भी एक जीवित मध्यम या धारक के संपर्क में आता है उस जीव की कोशिका को भेद कर आच्छादित कर देता है और जीव बीमार हो जाता है। एक बार जब विषाणु जीवित कोशिका में प्रवेश कर जाता है, वह कोशिका के मूल आरएनए एवं डीएनए की जेनेटिक संरचना को अपनी जेनेटिक सूचना से बदल देता है और संक्रमित कोशिका अपने जैसे संक्रमित कोशिकाओं का पुनरुत्पादन शुरू कर देती है।\n",
            "विषाणु का अंग्रेजी शब्द वाइरस का शाब्दिक अर्थ विष होता है। सर्वप्रथम सन १७९६ में डाक्टर एडवर्ड जेनर ने पता लगाया कि चेचक, विषाणु के कारण होता है। उन्होंने चेचक के टीके का आविष्कार भी किया। इसके बाद सन १८८६ में एडोल्फ मेयर ने बताया कि तम्बाकू में मोजेक रोग एक विशेष प्रकार के वाइरस के द्वारा होता है। रूसी वनस्पति शास्त्री इवानोवस्की ने भी १८९२ में तम्बाकू में होने वाले मोजेक रोग का अध्ययन करते समय विषाणु के अस्तित्व का पता लगाया। बेजेर्निक और बोर ने भी तम्बाकू के पत्ते पर इसका प्रभाव देखा और उसका नाम टोबेको मोजेक रखा। मोजेक शब्द रखने का कारण इनका मोजेक के समान तम्बाकू के पत्ते पर चिन्ह पाया जाना था। इस चिन्ह को देखकर इस विशेष विषाणु का नाम उन्होंने टोबेको मोजेक वाइरस रखा।[2]\n",
            "विषाणु लाभप्रद एवं हानिकारक दोनों प्रकार के होते हैं। जीवाणुभोजी विषाणु एक लाभप्रद विषाणु है, यह हैजा, पेचिश, टायफायड आदि रोग उत्पन्न करने वाले जीवाणुओं को नष्ट कर मानव की रोगों से रक्षा करता है। कुछ विषाणु पौधे या जन्तुओं में रोग उत्पन्न करते हैं एवं हानिप्रद होते हैं। एचआईवी, इन्फ्लूएन्जा वाइरस, पोलियो वाइरस रोग उत्पन्न करने वाले प्रमुख विषाणु हैं। सम्पर्क द्वारा, वायु द्वारा, भोजन एवं जल द्वारा तथा कीटों द्वारा विषाणुओं का संचरण होता है परन्तु विशिष्ट प्रकार के विषाणु विशिष्ट विधियों द्वारा संचरण करते हैं।\n",
            "\"वायरस कोशिका के बाहर तो मरे हुए ऱहते है लेकिन जब ये कोशिका मैंं प्रवेश करते है तो इनका जीवन चक्र प्रारम्भ होने लगता है \"by siddharth lodha ratlai.\n",
            " सन्दर्भ \n",
            "\n",
            "श्रेणी:विषाणु\n",
            "श्रेणी:सूक्ष्मजैविकी\n",
            "श्रेणी:हिन्दी विकि डीवीडी परियोजना\n",
            "फ्लोरीन एक रासायनिक तत्व है। यह आवर्त सारणी (periodic table) के सप्तसमूह का प्रथम तत्व है, जिसमें सर्वाधिक अधातु गुण वर्तमान हैं। इसका एक स्थिर समस्थानिक (भारसंख्या 19) प्राप्त है और तीन रेडियोधर्मिता समस्थानिक (भारसंख्या 17,18 और 20) कृत्रिम साधनों से बनाए गए हैं। इस तत्व को 1886 ई. में मॉयसाँ ने पृथक्‌ किया। अत्यंत क्रियाशील तत्व होने के कारण इसको मुक्त अवस्था में बनाना अत्यंत कठिन कार्य था। मॉयसाँ ने विशुद्ध हाइड्रोक्लोरिक अम्ल तथा दहातु तरस्विनिक के मिश्रण के वैद्युत्‌ अपघटन द्वारा यह तत्व प्राप्त किया था।\n",
            "तरस्विनी मुक्त अवस्था में नहीं पाया जाता। इसके यौगिक चूर्णातु तरस्विनिक (फ्लुओराइड), (चूर.त2) (CaF2) और क्रायोलाइड, (क्षा3स्फ.त6) (Na3AlF6) अनेक स्थानों पर मिलते हैं।\n",
            "तरस्विनी का निर्माण मॉयसाँ विधि द्वारा किया जाता है। महातु घनातु मिश्रधातु का बना यू (U) के आकार का विद्युत्‌ अपघटनी कोशिका लिया जाता है, जिसके विद्युदग्र भी इसी मिश्रधातु के बने रहते हैं। हाइड्रोफ्लोरिक अम्ल में दहातु तरस्विनिक (फ्लुओराइड) विलयित कर - 23° सें. पर सेल में अपघटन करने से धनाग्र पर तरस्विनी मुक्त होगी। मुक्त तरस्विनी को विशुद्ध करने के हेतु प्लैटिनम के ठंडे बरतन तथा क्षारातु तरस्विनिक (फ्लुओराइड) की नलिकाओं द्वारा प्रवाहित किया जाता है।\n",
            " गुण \n",
            "तरस्विनी के कुछ भौतिक गुण निम्नांकित हैं:\n",
            "संकेत--- त (F)\n",
            "परमाणु संख्या --- 9\n",
            "परमाणु भार--- 19\n",
            "गलनांक --- -223रू सें.\n",
            "क्वथनांक --- -188रू सें.\n",
            "आपेक्षिक घनत्व --- -1.265\n",
            "परमाणु व्यास --- 1.36 ऐंगस्ट्रॉम\n",
            "तरस्विनी समस्त तत्वों में अपेक्षाकृत सर्वाधिक क्रियाशील पदार्थ है। हाइड्रोजन के साथ यह न्यून ताप पर भी विस्फोट के साथ संयुक्त हो जाता है।\n",
            "हाइड्रोफ्लुओरिक अम्ल अथवा उदजन तरस्विनिक (हाइड्रोजन फ्लुओराइड) (उ.त)(HF) अथवा (उ2त2) (H2F2) अत्यंत विषैला पदार्थ है इसका विशुद्ध यौगिक विद्युत्‌ का कुचालक है। इसका जलीय विलयन तीव्र आम्लिक गुण युक्त होता है। यह काच पर क्रिया कर सैकता तरस्विनिक (सिलिकन फ्लुओराइड) बनाता है। इस गुण के कारण इसका उपयोग काच पर निशान बनाने में होता है। हाइड्रोफ्लुओरिक अम्ल के लवण तरस्विनि\n"
          ]
        }
      ]
    },
    {
      "cell_type": "code",
      "metadata": {
        "id": "6hzcW_dL4_0S"
      },
      "source": [
        "with open(\"\\content\\drive\\MyDrive\\tamil.txt\", \"w\") as f:\n",
        "    print(tamil_context, file=f)\n",
        "\n",
        "with open(\"\\content\\drive\\MyDrive\\hindi.txt\", \"w\") as f:\n",
        "    print(hindi_context, file=f)"
      ],
      "execution_count": 22,
      "outputs": []
    },
    {
      "cell_type": "code",
      "metadata": {
        "id": "DvqGyosw3WZa"
      },
      "source": [
        "from tokenizers import BertWordPieceTokenizer"
      ],
      "execution_count": 16,
      "outputs": []
    },
    {
      "cell_type": "code",
      "metadata": {
        "id": "OM7dLxOV3lEl"
      },
      "source": [
        "def train_tokenizer(path):\n",
        "    tokenizer = BertWordPieceTokenizer(\n",
        "        clean_text=True,\n",
        "        handle_chinese_chars=True,\n",
        "        strip_accents=False, \n",
        "        lowercase=False,\n",
        "        wordpieces_prefix=\"##\"\n",
        "    )\n",
        "\n",
        "    tokenizer.train(\n",
        "        files=[f'{path}'],\n",
        "        limit_alphabet=6000,\n",
        "        min_frequency=5,\n",
        "        show_progress=True,\n",
        "        vocab_size=30000\n",
        "    )\n",
        "    return(tokenizer)"
      ],
      "execution_count": 23,
      "outputs": []
    },
    {
      "cell_type": "code",
      "metadata": {
        "id": "CTTBlw_c3zcf"
      },
      "source": [
        "hindi_tokenizer = train_tokenizer(\"\\content\\drive\\MyDrive\\hindi.txt\")"
      ],
      "execution_count": 24,
      "outputs": []
    },
    {
      "cell_type": "code",
      "metadata": {
        "id": "wcILG0eD5rcO"
      },
      "source": [
        "tamil_tokenizer = train_tokenizer(\"\\content\\drive\\MyDrive\\tamil.txt\")"
      ],
      "execution_count": 25,
      "outputs": []
    }
  ]
}